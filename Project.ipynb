{
 "cells": [
  {
   "cell_type": "markdown",
   "id": "f9fda283-b5b1-4633-974c-d0e215d6dc53",
   "metadata": {},
   "source": [
    "First idea for dataset : forest fires in France. Correlated questions : how are wind/precipitation/temperature related to fire forests ? How can we predict next fire forests based on climate change's predictions ?  \n",
    "\n",
    "https://bdiff.agriculture.gouv.fr/incendies?if%5BidIncendie%5D=&if%5BdateAlerteDeb%5D%5Bdate%5D=05%2F01%2F2022&if%5BdateAlerteDeb%5D%5Btime%5D%5Bhour%5D=3&if%5BdateAlerteDeb%5D%5Btime%5D%5Bminute%5D=3&if%5BdateAlerteFin%5D%5Bdate%5D=20%2F07%2F2022&if%5BdateAlerteFin%5D%5Btime%5D%5Bhour%5D=23&if%5BdateAlerteFin%5D%5Btime%5D%5Bminute%5D=59&if%5BperiodeDeb%5D%5Bjour%5D=&if%5BperiodeDeb%5D%5Bmois%5D=&if%5BperiodeFin%5D%5Bjour%5D=&if%5BperiodeFin%5D%5Bmois%5D=&if%5BperiodeAnnees%5D%5BanneeDeb%5D=&if%5BperiodeAnnees%5D%5BanneeFin%5D=&if%5BheureDeb%5D=&if%5BheureFin%5D=&if%5BsurfaceDeInc%5D=1&if%5BsurfaceDe%5D=&if%5BsurfaceA%5D=&if%5BsurfaceAInc%5D=1&if%5Bfr%5D=1&if%5Bzone%5D=&if%5Bra%5D=&if%5Bdeprt%5D=&if%5Bcommune%5D=&if%5Bsubmit%5D=\n",
    "\n",
    "This could also be linked to this dataset, https://www.data.gouv.fr/fr/datasets/forets-publiques-diffusion-publique-1/#/resources, which provides informations on forests in France (size ...). "
   ]
  },
  {
   "cell_type": "code",
   "execution_count": null,
   "id": "eb88deb5-c560-4c86-b573-7a01202b4997",
   "metadata": {},
   "outputs": [],
   "source": []
  },
  {
   "cell_type": "markdown",
   "id": "1f674ed6-6559-4f4a-a52d-ea428a711625",
   "metadata": {},
   "source": [
    "## Second potential idea\n",
    "\n",
    "Comparing non-renewable energy production with respiratory health conditions. "
   ]
  },
  {
   "cell_type": "code",
   "execution_count": null,
   "id": "ae8cdfc2-f594-432d-afe1-ddc63884ea07",
   "metadata": {},
   "outputs": [],
   "source": []
  },
  {
   "cell_type": "code",
   "execution_count": null,
   "id": "6f50fdcd-d2cc-4ebc-bcc5-c5d770c46b5c",
   "metadata": {},
   "outputs": [],
   "source": []
  }
 ],
 "metadata": {
  "kernelspec": {
   "display_name": "R",
   "language": "R",
   "name": "ir"
  },
  "language_info": {
   "codemirror_mode": "r",
   "file_extension": ".r",
   "mimetype": "text/x-r-source",
   "name": "R",
   "pygments_lexer": "r",
   "version": "4.3.1"
  }
 },
 "nbformat": 4,
 "nbformat_minor": 5
}
