{
 "cells": [
  {
   "cell_type": "markdown",
   "id": "f9fda283-b5b1-4633-974c-d0e215d6dc53",
   "metadata": {},
   "source": [
    "Hi"
   ]
  },
  {
   "cell_type": "code",
   "execution_count": null,
   "id": "eb88deb5-c560-4c86-b573-7a01202b4997",
   "metadata": {},
   "outputs": [],
   "source": []
  }
 ],
 "metadata": {
  "kernelspec": {
   "display_name": "R",
   "language": "R",
   "name": "ir"
  },
  "language_info": {
   "codemirror_mode": "r",
   "file_extension": ".r",
   "mimetype": "text/x-r-source",
   "name": "R",
   "pygments_lexer": "r",
   "version": "4.3.1"
  }
 },
 "nbformat": 4,
 "nbformat_minor": 5
}
